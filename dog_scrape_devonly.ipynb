{
 "cells": [
  {
   "cell_type": "code",
   "execution_count": 36,
   "metadata": {},
   "outputs": [],
   "source": [
    "from selenium import webdriver\n",
    "from selenium.webdriver.common.keys import Keys\n",
    "import pandas as pd\n",
    "import re"
   ]
  },
  {
   "cell_type": "code",
   "execution_count": 39,
   "metadata": {},
   "outputs": [],
   "source": [
    "# go to shell website to get authkey\n",
    "url = \"https://wright-wayrescue.org/adoptable-dogs\"\n",
    "driver = webdriver.Chrome()\n",
    "driver.get(url)\n",
    "target = driver.find_element_by_class_name(\"main-content\")\n",
    "target_str = target.get_attribute('innerHTML')\n",
    "\n",
    "# extracte auth key\n",
    "try:\n",
    "    found = re.search('authkey=(.+?)&', target_str).group(1)\n",
    "except AttributeError:\n",
    "    # AAA, ZZZ not found in the original string\n",
    "    found = '' # apply your error handling\n",
    "\n",
    "# go to target petango website with the authkey\n",
    "petango_url = f\"https://ws.petango.com/webservices/adoptablesearch/wsAdoptableAnimals.aspx?species=Dog&gender=A&agegroup=OverYear&location=&site=&onhold=A&orderby=name&colnum=3&css=http://ws.petango.com/WebServices/adoptablesearch/css/styles.css&authkey={found}&recAmount=&detailsInPopup=No&featuredPet=Include&stageID=&wmode=opaque\"\n",
    "driver.get(petango_url)\n",
    "# extract dog info\n",
    "dogs = driver.find_elements_by_tag_name(\"td\")\n",
    "out = []\n",
    "for dog in dogs:\n",
    "    try:\n",
    "        dog_id = dog.find_element_by_class_name('list-animal-id').get_attribute('innerHTML')\n",
    "        dog_sex_status = dog.find_element_by_class_name('list-animal-sexSN').get_attribute('innerHTML')\n",
    "        dog_breed = dog.find_element_by_class_name('list-animal-breed').get_attribute('innerHTML')\n",
    "        dog_age = dog.find_element_by_class_name('list-animal-age').get_attribute('innerHTML')\n",
    "        dog_url = f'https://ws.petango.com/webservices/adoptablesearch/wsAdoptableAnimalDetails.aspx?id={dog_id}&css=http://ws.petango.com/WebServices/adoptablesearch/css/styles.css'\n",
    "        out.append([dog_id, dog_sex_status, dog_breed, dog_age, dog_url])\n",
    "    except:\n",
    "        pass\n",
    "\n",
    "# put it in a df for processing\n",
    "df = pd.DataFrame(out, columns=['dog_id', 'sex', 'breed', 'age', 'link'])\n",
    "# first time only\n",
    "# df['dog_id'].to_csv('existing_dogs.csv')"
   ]
  },
  {
   "cell_type": "code",
   "execution_count": 56,
   "metadata": {},
   "outputs": [],
   "source": [
    "df['dog_id'].to_csv('existing_dogs.csv', index=False)"
   ]
  },
  {
   "cell_type": "code",
   "execution_count": 64,
   "metadata": {},
   "outputs": [],
   "source": [
    "existing_dogs = pd.read_csv('existing_dogs.csv')\n",
    "\n",
    "new_dogs = df[~df.dog_id.astype(int).isin(existing_dogs['dog_id'])]"
   ]
  },
  {
   "cell_type": "code",
   "execution_count": 65,
   "metadata": {},
   "outputs": [
    {
     "data": {
      "text/html": [
       "<div>\n",
       "<style scoped>\n",
       "    .dataframe tbody tr th:only-of-type {\n",
       "        vertical-align: middle;\n",
       "    }\n",
       "\n",
       "    .dataframe tbody tr th {\n",
       "        vertical-align: top;\n",
       "    }\n",
       "\n",
       "    .dataframe thead th {\n",
       "        text-align: right;\n",
       "    }\n",
       "</style>\n",
       "<table border=\"1\" class=\"dataframe\">\n",
       "  <thead>\n",
       "    <tr style=\"text-align: right;\">\n",
       "      <th></th>\n",
       "      <th>dog_id</th>\n",
       "      <th>sex</th>\n",
       "      <th>breed</th>\n",
       "      <th>age</th>\n",
       "      <th>link</th>\n",
       "    </tr>\n",
       "  </thead>\n",
       "  <tbody>\n",
       "    <tr>\n",
       "      <th>count</th>\n",
       "      <td>3</td>\n",
       "      <td>3</td>\n",
       "      <td>3</td>\n",
       "      <td>3</td>\n",
       "      <td>3</td>\n",
       "    </tr>\n",
       "    <tr>\n",
       "      <th>unique</th>\n",
       "      <td>3</td>\n",
       "      <td>3</td>\n",
       "      <td>3</td>\n",
       "      <td>2</td>\n",
       "      <td>3</td>\n",
       "    </tr>\n",
       "    <tr>\n",
       "      <th>top</th>\n",
       "      <td>36145953</td>\n",
       "      <td>Male/Neutered</td>\n",
       "      <td>Retriever, Labrador/Shepherd</td>\n",
       "      <td>3 years</td>\n",
       "      <td>https://ws.petango.com/webservices/adoptablese...</td>\n",
       "    </tr>\n",
       "    <tr>\n",
       "      <th>freq</th>\n",
       "      <td>1</td>\n",
       "      <td>1</td>\n",
       "      <td>1</td>\n",
       "      <td>2</td>\n",
       "      <td>1</td>\n",
       "    </tr>\n",
       "  </tbody>\n",
       "</table>\n",
       "</div>"
      ],
      "text/plain": [
       "          dog_id            sex                         breed      age  \\\n",
       "count          3              3                             3        3   \n",
       "unique         3              3                             3        2   \n",
       "top     36145953  Male/Neutered  Retriever, Labrador/Shepherd  3 years   \n",
       "freq           1              1                             1        2   \n",
       "\n",
       "                                                     link  \n",
       "count                                                   3  \n",
       "unique                                                  3  \n",
       "top     https://ws.petango.com/webservices/adoptablese...  \n",
       "freq                                                    1  "
      ]
     },
     "execution_count": 65,
     "metadata": {},
     "output_type": "execute_result"
    }
   ],
   "source": [
    "df['dog_id'].to_csv('existing_dogs.csv', index=False)"
   ]
  },
  {
   "cell_type": "code",
   "execution_count": 67,
   "metadata": {},
   "outputs": [
    {
     "data": {
      "text/plain": [
       "'<table border=\"1\" class=\"dataframe\">\\n  <thead>\\n    <tr style=\"text-align: right;\">\\n      <th></th>\\n      <th>dog_id</th>\\n      <th>sex</th>\\n      <th>breed</th>\\n      <th>age</th>\\n      <th>link</th>\\n    </tr>\\n  </thead>\\n  <tbody>\\n    <tr>\\n      <th>46</th>\\n      <td>36145953</td>\\n      <td>Male/Neutered</td>\\n      <td>Retriever, Labrador/Shepherd</td>\\n      <td>3 years</td>\\n      <td>https://ws.petango.com/webservices/adoptablesearch/wsAdoptableAnimalDetails.aspx?id=36145953&amp;css=http://ws.petango.com/WebServices/adoptablesearch/css/styles.css</td>\\n    </tr>\\n    <tr>\\n      <th>47</th>\\n      <td>43909133</td>\\n      <td>Female</td>\\n      <td>Australian Shepherd/Mix</td>\\n      <td>2 years 2 months</td>\\n      <td>https://ws.petango.com/webservices/adoptablesearch/wsAdoptableAnimalDetails.aspx?id=43909133&amp;css=http://ws.petango.com/WebServices/adoptablesearch/css/styles.css</td>\\n    </tr>\\n    <tr>\\n      <th>48</th>\\n      <td>44229452</td>\\n      <td>Female/Spayed</td>\\n      <td>Border Collie/Mix</td>\\n      <td>3 years</td>\\n      <td>https://ws.petango.com/webservices/adoptablesearch/wsAdoptableAnimalDetails.aspx?id=44229452&amp;css=http://ws.petango.com/WebServices/adoptablesearch/css/styles.css</td>\\n    </tr>\\n  </tbody>\\n</table>'"
      ]
     },
     "execution_count": 67,
     "metadata": {},
     "output_type": "execute_result"
    }
   ],
   "source": [
    "new_dogs.to_html()"
   ]
  },
  {
   "cell_type": "code",
   "execution_count": 77,
   "metadata": {},
   "outputs": [],
   "source": [
    "import smtplib, ssl\n",
    "from email.mime.text import MIMEText\n",
    "from email.mime.multipart import MIMEMultipart\n",
    "from email.mime.base import MIMEBase\n",
    "from email import encoders\n",
    "from creds import u, p, recipients\n",
    "u = 'rob.dev.act'\n",
    "p = 'longhorsecantdance'\n",
    "try:\n",
    "    # Create a secure SSL context\n",
    "    context = ssl.create_default_context()\n",
    "    message = MIMEMultipart(\"alternative\")\n",
    "    message[\"Subject\"] = f\"Dog adoption update: {len(new_dogs.index)} new dogs listed\"\n",
    "    message[\"From\"] = u\n",
    "    message[\"To\"] = \", \".join(recipients)\n",
    "    html = f\"\"\"\\\n",
    "    <html>\n",
    "      <body>\n",
    "        {new_dogs.to_html()}\n",
    "      </body>\n",
    "    </html>\n",
    "    \"\"\"\n",
    "    part2 = MIMEText(html, \"html\")\n",
    "    message.attach(part2)\n",
    "\n",
    "#     attachement\n",
    "#     filename = f'{Group.id}/hourly_summary_{Group.id}.xlsx'\n",
    "#     part = MIMEBase('application', \"octet-stream\")\n",
    "#     part.set_payload(open(filename, \"rb\").read())\n",
    "#     encoders.encode_base64(part)\n",
    "#     part.add_header('Content-Disposition',\n",
    "#                     f'attachment; filename=\"{filename}\"')\n",
    "#     message.attach(part)\n",
    "\n",
    "    with smtplib.SMTP_SSL(\"smtp.gmail.com\", 465, context=context) as server:\n",
    "        server.login(u, p)\n",
    "        server.sendmail(u, recipients, message.as_string())\n",
    "\n",
    "except Exception as e:\n",
    "    print(f'Something went wrong... | {e}')\n",
    "\n"
   ]
  },
  {
   "cell_type": "code",
   "execution_count": 75,
   "metadata": {},
   "outputs": [],
   "source": [
    "from creds import u, p, recipients"
   ]
  },
  {
   "cell_type": "code",
   "execution_count": 76,
   "metadata": {},
   "outputs": [
    {
     "data": {
      "text/plain": [
       "'rob.dev.email'"
      ]
     },
     "execution_count": 76,
     "metadata": {},
     "output_type": "execute_result"
    }
   ],
   "source": [
    "u"
   ]
  }
 ],
 "metadata": {
  "kernelspec": {
   "display_name": "Python 3",
   "language": "python",
   "name": "python3"
  },
  "language_info": {
   "codemirror_mode": {
    "name": "ipython",
    "version": 3
   },
   "file_extension": ".py",
   "mimetype": "text/x-python",
   "name": "python",
   "nbconvert_exporter": "python",
   "pygments_lexer": "ipython3",
   "version": "3.7.6"
  }
 },
 "nbformat": 4,
 "nbformat_minor": 4
}
